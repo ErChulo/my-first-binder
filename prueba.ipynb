{
 "cells": [
  {
   "cell_type": "markdown",
   "id": "735f0f0f-cee1-4906-9ce0-58ee4bcf46d2",
   "metadata": {},
   "source": [
    "# Prueba de cambio persistente"
   ]
  },
  {
   "cell_type": "markdown",
   "id": "acefaa15-1abf-42db-a7fd-5d3581f7e207",
   "metadata": {},
   "source": [
    "Esto es un latexillo:\n",
    "\n",
    "$$\\frac{f(x-1)}{f(x+1)}$$"
   ]
  }
 ],
 "metadata": {
  "kernelspec": {
   "display_name": "Python 3 (ipykernel)",
   "language": "python",
   "name": "python3"
  },
  "language_info": {
   "codemirror_mode": {
    "name": "ipython",
    "version": 3
   },
   "file_extension": ".py",
   "mimetype": "text/x-python",
   "name": "python",
   "nbconvert_exporter": "python",
   "pygments_lexer": "ipython3",
   "version": "3.10.16"
  }
 },
 "nbformat": 4,
 "nbformat_minor": 5
}
