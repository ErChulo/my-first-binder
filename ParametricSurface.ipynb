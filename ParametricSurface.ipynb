{
 "cells": [
  {
   "cell_type": "code",
   "execution_count": null,
   "metadata": {},
   "outputs": [],
   "source": [
    "%load_ext manim.utils.ipython_magic"
   ]
  },
  {
   "cell_type": "code",
   "execution_count": null,
   "metadata": {},
   "outputs": [],
   "source": [
    "%%manim -qh -v WARNING SurfDemo\n",
    "from manim import *\n",
    "\n",
    "class SurfDemo(ThreeDScene):\n",
    "    def construct(self):\n",
    "        self.set_camera_orientation(phi=70*DEGREES, theta=30*DEGREES)\n",
    "        ax = ThreeDAxes()\n",
    "        surf = Surface(\n",
    "            lambda u, v: np.array([\n",
    "                u,\n",
    "                v,\n",
    "                0.2*np.sin(u)*np.cos(v)\n",
    "            ]),\n",
    "            u_range=[-3,3], v_range=[-3,3], resolution=(32,32)\n",
    "        )\n",
    "        self.add(ax)\n",
    "        self.play(Create(surf))\n",
    "        self.begin_ambient_camera_rotation(rate=0.2)\n",
    "        self.wait(3)\n"
   ]
  }
 ],
 "metadata": {
  "kernelspec": {
   "display_name": "Python 3",
   "language": "python",
   "name": "python3"
  },
  "language_info": {
   "name": "python",
   "version": "3.10"
  }
 },
 "nbformat": 4,
 "nbformat_minor": 5
}
